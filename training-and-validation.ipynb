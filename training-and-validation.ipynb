{
 "cells": [
  {
   "cell_type": "code",
   "execution_count": 3,
   "id": "7489eac0",
   "metadata": {},
   "outputs": [
    {
     "data": {
      "text/plain": [
       "\"\\nSource:\\n\\nCreators:\\n\\nDr. William H. Wolberg, General Surgery Dept.\\nUniversity of Wisconsin, Clinical Sciences Center\\nMadison, WI 53792\\nwolberg '@' eagle.surgery.wisc.edu\\n\\nW. Nick Street, Computer Sciences Dept.\\nUniversity of Wisconsin, 1210 West Dayton St., Madison, WI 53706\\nstreet '@' cs.wisc.edu 608-262-6619\\n\\nOlvi L. Mangasarian, Computer Sciences Dept.\\nUniversity of Wisconsin, 1210 West Dayton St., Madison, WI 53706\\nolvi '@' cs.wisc.edu\\n\\nDonor: Nick Street\\n\\nSource: UCI - Machine Learning Repository\\n\""
      ]
     },
     "execution_count": 3,
     "metadata": {},
     "output_type": "execute_result"
    }
   ],
   "source": [
    "# import librabries\n",
    "import numpy as np\n",
    "import pandas as pd\n",
    "import seaborn as sns\n",
    "import matplotlib.pyplot as plt\n",
    "\n",
    "# Source: https://catalog.data.gov/dataset/infectious-disease-cases-by-county-year-and-sex-2001-2014\n",
    "\n",
    "\"\"\"\n",
    "Source:\n",
    "\n",
    "Creators:\n",
    "\n",
    "Dr. William H. Wolberg, General Surgery Dept.\n",
    "University of Wisconsin, Clinical Sciences Center\n",
    "Madison, WI 53792\n",
    "wolberg '@' eagle.surgery.wisc.edu\n",
    "\n",
    "W. Nick Street, Computer Sciences Dept.\n",
    "University of Wisconsin, 1210 West Dayton St., Madison, WI 53706\n",
    "street '@' cs.wisc.edu 608-262-6619\n",
    "\n",
    "Olvi L. Mangasarian, Computer Sciences Dept.\n",
    "University of Wisconsin, 1210 West Dayton St., Madison, WI 53706\n",
    "olvi '@' cs.wisc.edu\n",
    "\n",
    "Donor: Nick Street\n",
    "\n",
    "Source: UCI - Machine Learning Repository\n",
    "\"\"\""
   ]
  },
  {
   "cell_type": "code",
   "execution_count": 5,
   "id": "1de5701a",
   "metadata": {},
   "outputs": [],
   "source": [
    "# import the dataset from the clean folder\n",
    "df = pd.read_csv(\"preprocessed_bank_full.csv\")"
   ]
  },
  {
   "cell_type": "code",
   "execution_count": 6,
   "id": "a7b2d4bb",
   "metadata": {},
   "outputs": [
    {
     "data": {
      "text/html": [
       "<div>\n",
       "<style scoped>\n",
       "    .dataframe tbody tr th:only-of-type {\n",
       "        vertical-align: middle;\n",
       "    }\n",
       "\n",
       "    .dataframe tbody tr th {\n",
       "        vertical-align: top;\n",
       "    }\n",
       "\n",
       "    .dataframe thead th {\n",
       "        text-align: right;\n",
       "    }\n",
       "</style>\n",
       "<table border=\"1\" class=\"dataframe\">\n",
       "  <thead>\n",
       "    <tr style=\"text-align: right;\">\n",
       "      <th></th>\n",
       "      <th>age</th>\n",
       "      <th>job</th>\n",
       "      <th>marital</th>\n",
       "      <th>education</th>\n",
       "      <th>default</th>\n",
       "      <th>balance</th>\n",
       "      <th>housing</th>\n",
       "      <th>loan</th>\n",
       "      <th>contact</th>\n",
       "      <th>day</th>\n",
       "      <th>month</th>\n",
       "      <th>duration</th>\n",
       "      <th>campaign</th>\n",
       "      <th>pdays</th>\n",
       "      <th>previous</th>\n",
       "      <th>poutcome</th>\n",
       "      <th>y</th>\n",
       "    </tr>\n",
       "  </thead>\n",
       "  <tbody>\n",
       "    <tr>\n",
       "      <th>36490</th>\n",
       "      <td>44</td>\n",
       "      <td>blue-collar</td>\n",
       "      <td>married</td>\n",
       "      <td>primary</td>\n",
       "      <td>no</td>\n",
       "      <td>103</td>\n",
       "      <td>yes</td>\n",
       "      <td>no</td>\n",
       "      <td>cellular</td>\n",
       "      <td>12</td>\n",
       "      <td>may</td>\n",
       "      <td>79</td>\n",
       "      <td>1</td>\n",
       "      <td>329</td>\n",
       "      <td>2</td>\n",
       "      <td>failure</td>\n",
       "      <td>no</td>\n",
       "    </tr>\n",
       "    <tr>\n",
       "      <th>12742</th>\n",
       "      <td>42</td>\n",
       "      <td>management</td>\n",
       "      <td>married</td>\n",
       "      <td>unknown</td>\n",
       "      <td>no</td>\n",
       "      <td>6573</td>\n",
       "      <td>yes</td>\n",
       "      <td>no</td>\n",
       "      <td>cellular</td>\n",
       "      <td>7</td>\n",
       "      <td>jul</td>\n",
       "      <td>56</td>\n",
       "      <td>4</td>\n",
       "      <td>-1</td>\n",
       "      <td>0</td>\n",
       "      <td>unknown</td>\n",
       "      <td>no</td>\n",
       "    </tr>\n",
       "    <tr>\n",
       "      <th>791</th>\n",
       "      <td>31</td>\n",
       "      <td>blue-collar</td>\n",
       "      <td>single</td>\n",
       "      <td>secondary</td>\n",
       "      <td>no</td>\n",
       "      <td>53</td>\n",
       "      <td>yes</td>\n",
       "      <td>no</td>\n",
       "      <td>unknown</td>\n",
       "      <td>7</td>\n",
       "      <td>may</td>\n",
       "      <td>446</td>\n",
       "      <td>1</td>\n",
       "      <td>-1</td>\n",
       "      <td>0</td>\n",
       "      <td>unknown</td>\n",
       "      <td>no</td>\n",
       "    </tr>\n",
       "    <tr>\n",
       "      <th>11345</th>\n",
       "      <td>40</td>\n",
       "      <td>blue-collar</td>\n",
       "      <td>married</td>\n",
       "      <td>primary</td>\n",
       "      <td>no</td>\n",
       "      <td>117</td>\n",
       "      <td>yes</td>\n",
       "      <td>no</td>\n",
       "      <td>unknown</td>\n",
       "      <td>19</td>\n",
       "      <td>jun</td>\n",
       "      <td>172</td>\n",
       "      <td>3</td>\n",
       "      <td>-1</td>\n",
       "      <td>0</td>\n",
       "      <td>unknown</td>\n",
       "      <td>no</td>\n",
       "    </tr>\n",
       "    <tr>\n",
       "      <th>43022</th>\n",
       "      <td>37</td>\n",
       "      <td>unemployed</td>\n",
       "      <td>single</td>\n",
       "      <td>secondary</td>\n",
       "      <td>no</td>\n",
       "      <td>2722</td>\n",
       "      <td>no</td>\n",
       "      <td>no</td>\n",
       "      <td>telephone</td>\n",
       "      <td>27</td>\n",
       "      <td>apr</td>\n",
       "      <td>426</td>\n",
       "      <td>2</td>\n",
       "      <td>179</td>\n",
       "      <td>3</td>\n",
       "      <td>other</td>\n",
       "      <td>yes</td>\n",
       "    </tr>\n",
       "  </tbody>\n",
       "</table>\n",
       "</div>"
      ],
      "text/plain": [
       "       age          job  marital  education default  balance housing loan  \\\n",
       "36490   44  blue-collar  married    primary      no      103     yes   no   \n",
       "12742   42   management  married    unknown      no     6573     yes   no   \n",
       "791     31  blue-collar   single  secondary      no       53     yes   no   \n",
       "11345   40  blue-collar  married    primary      no      117     yes   no   \n",
       "43022   37   unemployed   single  secondary      no     2722      no   no   \n",
       "\n",
       "         contact  day month  duration  campaign  pdays  previous poutcome    y  \n",
       "36490   cellular   12   may        79         1    329         2  failure   no  \n",
       "12742   cellular    7   jul        56         4     -1         0  unknown   no  \n",
       "791      unknown    7   may       446         1     -1         0  unknown   no  \n",
       "11345    unknown   19   jun       172         3     -1         0  unknown   no  \n",
       "43022  telephone   27   apr       426         2    179         3    other  yes  "
      ]
     },
     "execution_count": 6,
     "metadata": {},
     "output_type": "execute_result"
    }
   ],
   "source": [
    "# randomly display 5 samples \n",
    "df.sample(5)"
   ]
  },
  {
   "cell_type": "code",
   "execution_count": 7,
   "id": "4b571f1b",
   "metadata": {},
   "outputs": [
    {
     "data": {
      "text/plain": [
       "age          0\n",
       "job          0\n",
       "marital      0\n",
       "education    0\n",
       "default      0\n",
       "balance      0\n",
       "housing      0\n",
       "loan         0\n",
       "contact      0\n",
       "day          0\n",
       "month        0\n",
       "duration     0\n",
       "campaign     0\n",
       "pdays        0\n",
       "previous     0\n",
       "poutcome     0\n",
       "y            0\n",
       "dtype: int64"
      ]
     },
     "execution_count": 7,
     "metadata": {},
     "output_type": "execute_result"
    }
   ],
   "source": [
    "# check for missing values\n",
    "df.isnull().sum()"
   ]
  },
  {
   "cell_type": "code",
   "execution_count": 8,
   "id": "c0c090c2",
   "metadata": {},
   "outputs": [],
   "source": [
    "# replace the negative number with zero\n",
    "df['pdays'] = df['pdays'].replace({-1:0})"
   ]
  },
  {
   "cell_type": "code",
   "execution_count": 9,
   "id": "b2ebbf98",
   "metadata": {},
   "outputs": [
    {
     "name": "stdout",
     "output_type": "stream",
     "text": [
      "{'month': {'apr': 0, 'aug': 1, 'dec': 2, 'feb': 3, 'jan': 4, 'jul': 5, 'jun': 6, 'mar': 7, 'may': 8, 'nov': 9, 'oct': 10, 'sep': 11}}\n"
     ]
    }
   ],
   "source": [
    "# encode month feature\n",
    "from sklearn import preprocessing\n",
    "category_column = [\"month\"]\n",
    "labelEncoder = preprocessing.LabelEncoder()\n",
    "\n",
    "mapping_dictionary = {}\n",
    "\n",
    "for col in category_column:\n",
    "    df['month'] = labelEncoder.fit_transform(df[col])\n",
    " \n",
    "    le_name_mapping = dict(zip(labelEncoder.classes_, labelEncoder.transform(labelEncoder.classes_)))\n",
    " \n",
    "    mapping_dictionary[col] = le_name_mapping\n",
    "\n",
    "print(mapping_dictionary)"
   ]
  },
  {
   "cell_type": "code",
   "execution_count": 10,
   "id": "4e9adb81",
   "metadata": {},
   "outputs": [],
   "source": [
    "# select categorical variable\n",
    "cat_columns = [\"job\",\"marital\",\"education\", \"default\", \"housing\", \"loan\", \"contact\", \"poutcome\"]\n",
    "# one hot encode categorical features\n",
    "newdf = pd.get_dummies(df, prefix_sep = \"_\", columns = cat_columns)"
   ]
  },
  {
   "cell_type": "code",
   "execution_count": 11,
   "id": "ccdb843e-49d1-45f4-8f9b-72f9ab06014a",
   "metadata": {},
   "outputs": [],
   "source": [
    "# create a simple function to convert our target value to number\n",
    "def y_value(input_val):\n",
    "    if input_val['y'] == 'no':\n",
    "        val = 0\n",
    "    else:\n",
    "        val = 1\n",
    "    return val"
   ]
  },
  {
   "cell_type": "code",
   "execution_count": 12,
   "id": "38359103-77b9-4ed8-82ab-9ec5f3de80f1",
   "metadata": {},
   "outputs": [],
   "source": [
    "# apply the function\n",
    "newdf['y'] = newdf.apply(y_value, axis = 1)"
   ]
  },
  {
   "cell_type": "code",
   "execution_count": 13,
   "id": "14aec921-550c-4312-8555-ed88241d9fb2",
   "metadata": {},
   "outputs": [
    {
     "data": {
      "text/plain": [
       "Index(['age', 'balance', 'day', 'month', 'duration', 'campaign', 'pdays',\n",
       "       'previous', 'y', 'job_admin.', 'job_blue-collar', 'job_entrepreneur',\n",
       "       'job_housemaid', 'job_management', 'job_retired', 'job_self-employed',\n",
       "       'job_services', 'job_student', 'job_technician', 'job_unemployed',\n",
       "       'job_unknown', 'marital_divorced', 'marital_married', 'marital_single',\n",
       "       'education_primary', 'education_secondary', 'education_tertiary',\n",
       "       'education_unknown', 'default_no', 'default_yes', 'housing_no',\n",
       "       'housing_yes', 'loan_no', 'loan_yes', 'contact_cellular',\n",
       "       'contact_telephone', 'contact_unknown', 'poutcome_failure',\n",
       "       'poutcome_other', 'poutcome_success', 'poutcome_unknown'],\n",
       "      dtype='object')"
      ]
     },
     "execution_count": 13,
     "metadata": {},
     "output_type": "execute_result"
    }
   ],
   "source": [
    "# display the updated columns\n",
    "newdf.columns"
   ]
  },
  {
   "cell_type": "code",
   "execution_count": 14,
   "id": "04a3e73e-7ffa-466e-993b-8d85e88adf72",
   "metadata": {},
   "outputs": [
    {
     "data": {
      "text/html": [
       "<div>\n",
       "<style scoped>\n",
       "    .dataframe tbody tr th:only-of-type {\n",
       "        vertical-align: middle;\n",
       "    }\n",
       "\n",
       "    .dataframe tbody tr th {\n",
       "        vertical-align: top;\n",
       "    }\n",
       "\n",
       "    .dataframe thead th {\n",
       "        text-align: right;\n",
       "    }\n",
       "</style>\n",
       "<table border=\"1\" class=\"dataframe\">\n",
       "  <thead>\n",
       "    <tr style=\"text-align: right;\">\n",
       "      <th></th>\n",
       "      <th>age</th>\n",
       "      <th>balance</th>\n",
       "      <th>day</th>\n",
       "      <th>month</th>\n",
       "      <th>duration</th>\n",
       "      <th>campaign</th>\n",
       "      <th>pdays</th>\n",
       "      <th>previous</th>\n",
       "      <th>y</th>\n",
       "      <th>job_admin.</th>\n",
       "      <th>...</th>\n",
       "      <th>housing_yes</th>\n",
       "      <th>loan_no</th>\n",
       "      <th>loan_yes</th>\n",
       "      <th>contact_cellular</th>\n",
       "      <th>contact_telephone</th>\n",
       "      <th>contact_unknown</th>\n",
       "      <th>poutcome_failure</th>\n",
       "      <th>poutcome_other</th>\n",
       "      <th>poutcome_success</th>\n",
       "      <th>poutcome_unknown</th>\n",
       "    </tr>\n",
       "  </thead>\n",
       "  <tbody>\n",
       "    <tr>\n",
       "      <th>count</th>\n",
       "      <td>44550.000000</td>\n",
       "      <td>44550.000000</td>\n",
       "      <td>44550.000000</td>\n",
       "      <td>44550.000000</td>\n",
       "      <td>44550.000000</td>\n",
       "      <td>44550.000000</td>\n",
       "      <td>44550.000000</td>\n",
       "      <td>44550.000000</td>\n",
       "      <td>44550.000000</td>\n",
       "      <td>44550.000000</td>\n",
       "      <td>...</td>\n",
       "      <td>44550.000000</td>\n",
       "      <td>44550.000000</td>\n",
       "      <td>44550.000000</td>\n",
       "      <td>44550.000000</td>\n",
       "      <td>44550.000000</td>\n",
       "      <td>44550.000000</td>\n",
       "      <td>44550.000000</td>\n",
       "      <td>44550.000000</td>\n",
       "      <td>44550.000000</td>\n",
       "      <td>44550.000000</td>\n",
       "    </tr>\n",
       "    <tr>\n",
       "      <th>mean</th>\n",
       "      <td>40.488597</td>\n",
       "      <td>1292.840696</td>\n",
       "      <td>15.815533</td>\n",
       "      <td>5.524332</td>\n",
       "      <td>254.288126</td>\n",
       "      <td>2.772660</td>\n",
       "      <td>40.823143</td>\n",
       "      <td>0.573064</td>\n",
       "      <td>0.112615</td>\n",
       "      <td>0.115825</td>\n",
       "      <td>...</td>\n",
       "      <td>0.562941</td>\n",
       "      <td>0.837733</td>\n",
       "      <td>0.162267</td>\n",
       "      <td>0.648956</td>\n",
       "      <td>0.059484</td>\n",
       "      <td>0.291560</td>\n",
       "      <td>0.108036</td>\n",
       "      <td>0.040426</td>\n",
       "      <td>0.031874</td>\n",
       "      <td>0.819663</td>\n",
       "    </tr>\n",
       "    <tr>\n",
       "      <th>std</th>\n",
       "      <td>9.915194</td>\n",
       "      <td>2534.624623</td>\n",
       "      <td>8.324150</td>\n",
       "      <td>2.992674</td>\n",
       "      <td>242.758455</td>\n",
       "      <td>3.109658</td>\n",
       "      <td>99.900828</td>\n",
       "      <td>2.302085</td>\n",
       "      <td>0.316125</td>\n",
       "      <td>0.320018</td>\n",
       "      <td>...</td>\n",
       "      <td>0.496028</td>\n",
       "      <td>0.368700</td>\n",
       "      <td>0.368700</td>\n",
       "      <td>0.477302</td>\n",
       "      <td>0.236530</td>\n",
       "      <td>0.454486</td>\n",
       "      <td>0.310429</td>\n",
       "      <td>0.196960</td>\n",
       "      <td>0.175667</td>\n",
       "      <td>0.384472</td>\n",
       "    </tr>\n",
       "    <tr>\n",
       "      <th>min</th>\n",
       "      <td>18.000000</td>\n",
       "      <td>-8019.000000</td>\n",
       "      <td>1.000000</td>\n",
       "      <td>0.000000</td>\n",
       "      <td>0.000000</td>\n",
       "      <td>1.000000</td>\n",
       "      <td>0.000000</td>\n",
       "      <td>0.000000</td>\n",
       "      <td>0.000000</td>\n",
       "      <td>0.000000</td>\n",
       "      <td>...</td>\n",
       "      <td>0.000000</td>\n",
       "      <td>0.000000</td>\n",
       "      <td>0.000000</td>\n",
       "      <td>0.000000</td>\n",
       "      <td>0.000000</td>\n",
       "      <td>0.000000</td>\n",
       "      <td>0.000000</td>\n",
       "      <td>0.000000</td>\n",
       "      <td>0.000000</td>\n",
       "      <td>0.000000</td>\n",
       "    </tr>\n",
       "    <tr>\n",
       "      <th>25%</th>\n",
       "      <td>33.000000</td>\n",
       "      <td>70.000000</td>\n",
       "      <td>8.000000</td>\n",
       "      <td>3.000000</td>\n",
       "      <td>103.000000</td>\n",
       "      <td>1.000000</td>\n",
       "      <td>0.000000</td>\n",
       "      <td>0.000000</td>\n",
       "      <td>0.000000</td>\n",
       "      <td>0.000000</td>\n",
       "      <td>...</td>\n",
       "      <td>0.000000</td>\n",
       "      <td>1.000000</td>\n",
       "      <td>0.000000</td>\n",
       "      <td>0.000000</td>\n",
       "      <td>0.000000</td>\n",
       "      <td>0.000000</td>\n",
       "      <td>0.000000</td>\n",
       "      <td>0.000000</td>\n",
       "      <td>0.000000</td>\n",
       "      <td>1.000000</td>\n",
       "    </tr>\n",
       "    <tr>\n",
       "      <th>50%</th>\n",
       "      <td>39.000000</td>\n",
       "      <td>440.000000</td>\n",
       "      <td>16.000000</td>\n",
       "      <td>6.000000</td>\n",
       "      <td>179.000000</td>\n",
       "      <td>2.000000</td>\n",
       "      <td>0.000000</td>\n",
       "      <td>0.000000</td>\n",
       "      <td>0.000000</td>\n",
       "      <td>0.000000</td>\n",
       "      <td>...</td>\n",
       "      <td>1.000000</td>\n",
       "      <td>1.000000</td>\n",
       "      <td>0.000000</td>\n",
       "      <td>1.000000</td>\n",
       "      <td>0.000000</td>\n",
       "      <td>0.000000</td>\n",
       "      <td>0.000000</td>\n",
       "      <td>0.000000</td>\n",
       "      <td>0.000000</td>\n",
       "      <td>1.000000</td>\n",
       "    </tr>\n",
       "    <tr>\n",
       "      <th>75%</th>\n",
       "      <td>48.000000</td>\n",
       "      <td>1400.000000</td>\n",
       "      <td>21.000000</td>\n",
       "      <td>8.000000</td>\n",
       "      <td>317.000000</td>\n",
       "      <td>3.000000</td>\n",
       "      <td>0.000000</td>\n",
       "      <td>0.000000</td>\n",
       "      <td>0.000000</td>\n",
       "      <td>0.000000</td>\n",
       "      <td>...</td>\n",
       "      <td>1.000000</td>\n",
       "      <td>1.000000</td>\n",
       "      <td>0.000000</td>\n",
       "      <td>1.000000</td>\n",
       "      <td>0.000000</td>\n",
       "      <td>1.000000</td>\n",
       "      <td>0.000000</td>\n",
       "      <td>0.000000</td>\n",
       "      <td>0.000000</td>\n",
       "      <td>1.000000</td>\n",
       "    </tr>\n",
       "    <tr>\n",
       "      <th>max</th>\n",
       "      <td>69.000000</td>\n",
       "      <td>29887.000000</td>\n",
       "      <td>31.000000</td>\n",
       "      <td>11.000000</td>\n",
       "      <td>1994.000000</td>\n",
       "      <td>63.000000</td>\n",
       "      <td>871.000000</td>\n",
       "      <td>275.000000</td>\n",
       "      <td>1.000000</td>\n",
       "      <td>1.000000</td>\n",
       "      <td>...</td>\n",
       "      <td>1.000000</td>\n",
       "      <td>1.000000</td>\n",
       "      <td>1.000000</td>\n",
       "      <td>1.000000</td>\n",
       "      <td>1.000000</td>\n",
       "      <td>1.000000</td>\n",
       "      <td>1.000000</td>\n",
       "      <td>1.000000</td>\n",
       "      <td>1.000000</td>\n",
       "      <td>1.000000</td>\n",
       "    </tr>\n",
       "  </tbody>\n",
       "</table>\n",
       "<p>8 rows × 41 columns</p>\n",
       "</div>"
      ],
      "text/plain": [
       "                age       balance           day         month      duration  \\\n",
       "count  44550.000000  44550.000000  44550.000000  44550.000000  44550.000000   \n",
       "mean      40.488597   1292.840696     15.815533      5.524332    254.288126   \n",
       "std        9.915194   2534.624623      8.324150      2.992674    242.758455   \n",
       "min       18.000000  -8019.000000      1.000000      0.000000      0.000000   \n",
       "25%       33.000000     70.000000      8.000000      3.000000    103.000000   \n",
       "50%       39.000000    440.000000     16.000000      6.000000    179.000000   \n",
       "75%       48.000000   1400.000000     21.000000      8.000000    317.000000   \n",
       "max       69.000000  29887.000000     31.000000     11.000000   1994.000000   \n",
       "\n",
       "           campaign         pdays      previous             y    job_admin.  \\\n",
       "count  44550.000000  44550.000000  44550.000000  44550.000000  44550.000000   \n",
       "mean       2.772660     40.823143      0.573064      0.112615      0.115825   \n",
       "std        3.109658     99.900828      2.302085      0.316125      0.320018   \n",
       "min        1.000000      0.000000      0.000000      0.000000      0.000000   \n",
       "25%        1.000000      0.000000      0.000000      0.000000      0.000000   \n",
       "50%        2.000000      0.000000      0.000000      0.000000      0.000000   \n",
       "75%        3.000000      0.000000      0.000000      0.000000      0.000000   \n",
       "max       63.000000    871.000000    275.000000      1.000000      1.000000   \n",
       "\n",
       "       ...   housing_yes       loan_no      loan_yes  contact_cellular  \\\n",
       "count  ...  44550.000000  44550.000000  44550.000000      44550.000000   \n",
       "mean   ...      0.562941      0.837733      0.162267          0.648956   \n",
       "std    ...      0.496028      0.368700      0.368700          0.477302   \n",
       "min    ...      0.000000      0.000000      0.000000          0.000000   \n",
       "25%    ...      0.000000      1.000000      0.000000          0.000000   \n",
       "50%    ...      1.000000      1.000000      0.000000          1.000000   \n",
       "75%    ...      1.000000      1.000000      0.000000          1.000000   \n",
       "max    ...      1.000000      1.000000      1.000000          1.000000   \n",
       "\n",
       "       contact_telephone  contact_unknown  poutcome_failure  poutcome_other  \\\n",
       "count       44550.000000     44550.000000      44550.000000    44550.000000   \n",
       "mean            0.059484         0.291560          0.108036        0.040426   \n",
       "std             0.236530         0.454486          0.310429        0.196960   \n",
       "min             0.000000         0.000000          0.000000        0.000000   \n",
       "25%             0.000000         0.000000          0.000000        0.000000   \n",
       "50%             0.000000         0.000000          0.000000        0.000000   \n",
       "75%             0.000000         1.000000          0.000000        0.000000   \n",
       "max             1.000000         1.000000          1.000000        1.000000   \n",
       "\n",
       "       poutcome_success  poutcome_unknown  \n",
       "count      44550.000000      44550.000000  \n",
       "mean           0.031874          0.819663  \n",
       "std            0.175667          0.384472  \n",
       "min            0.000000          0.000000  \n",
       "25%            0.000000          1.000000  \n",
       "50%            0.000000          1.000000  \n",
       "75%            0.000000          1.000000  \n",
       "max            1.000000          1.000000  \n",
       "\n",
       "[8 rows x 41 columns]"
      ]
     },
     "execution_count": 14,
     "metadata": {},
     "output_type": "execute_result"
    }
   ],
   "source": [
    "# display a statistical summary of the data\n",
    "newdf.describe()"
   ]
  },
  {
   "cell_type": "code",
   "execution_count": 15,
   "id": "a3c66784-b86b-495f-9935-a68d2bd00fda",
   "metadata": {},
   "outputs": [
    {
     "data": {
      "image/png": "[encoded data removed]",
      "text/plain": [
       "<Figure size 432x288 with 2 Axes>"
      ]
     },
     "metadata": {
      "needs_background": "light"
     },
     "output_type": "display_data"
    }
   ],
   "source": [
    "# plot a correlation diagram\n",
    "sns.heatmap(newdf.corr())\n",
    "plt.show()"
   ]
  },
  {
   "cell_type": "markdown",
   "id": "5d18ef92-6cda-4e98-9bbf-9731b258565b",
   "metadata": {},
   "source": [
    "### Feature Importance"
   ]
  },
  {
   "cell_type": "code",
   "execution_count": 16,
   "id": "52063f62-02d8-483e-bea2-c75709a32fea",
   "metadata": {},
   "outputs": [],
   "source": [
    "# Create features and target\n",
    "X = newdf.drop(['y'], axis = 1)\n",
    "y = newdf['y']"
   ]
  },
  {
   "cell_type": "code",
   "execution_count": 17,
   "id": "4c341a6b-541f-4742-870a-67d3d16ce362",
   "metadata": {},
   "outputs": [],
   "source": [
    "# import train_test_split to split the dataset\n",
    "from sklearn.model_selection import train_test_split\n",
    "X_train, X_test, y_train, y_test = train_test_split(X, y, test_size = 0.2, random_state = 42)"
   ]
  },
  {
   "cell_type": "code",
   "execution_count": 18,
   "id": "6bdf7877-b465-4f95-8e6f-2af8546eaa0c",
   "metadata": {},
   "outputs": [],
   "source": [
    "# import randomforest classifier to perform feature selection\n",
    "from sklearn.feature_selection import RFE\n",
    "from sklearn.ensemble import RandomForestClassifier\n",
    "# Create the RFE object and rank each pixel\n",
    "clf_rf = RandomForestClassifier()      \n",
    "rfe = RFE(estimator = clf_rf, n_features_to_select = 10, step = 1)\n",
    "rfe = rfe.fit(X_train, y_train)"
   ]
  },
  {
   "cell_type": "code",
   "execution_count": 19,
   "id": "43e2fd04-4c82-4a84-a3eb-a4f7bf28dc17",
   "metadata": {},
   "outputs": [
    {
     "name": "stdout",
     "output_type": "stream",
     "text": [
      "Chosen best feature by rfe: Index(['age', 'balance', 'day', 'month', 'duration', 'campaign', 'pdays',\n",
      "       'previous', 'housing_yes', 'poutcome_success'],\n",
      "      dtype='object')\n"
     ]
    }
   ],
   "source": [
    "# display the top 10 most relevant features\n",
    "print('Chosen best feature by rfe:', X_train.columns[rfe.support_])"
   ]
  },
  {
   "cell_type": "markdown",
   "id": "d237f362-df86-42d6-bb5a-65aa3f98ff3d",
   "metadata": {},
   "source": [
    "### Algorithm Training and Experimentation"
   ]
  },
  {
   "cell_type": "code",
   "execution_count": 20,
   "id": "595fc35e-b757-4a14-81cc-038b08a3f93a",
   "metadata": {},
   "outputs": [],
   "source": [
    "# import libraries\n",
    "from sklearn.preprocessing import StandardScaler\n",
    "from sklearn.pipeline import Pipeline\n",
    "from sklearn.linear_model import LogisticRegression\n",
    "from sklearn.metrics import classification_report\n",
    "from sklearn.metrics import confusion_matrix\n",
    "from sklearn.metrics import f1_score\n",
    "from sklearn.metrics import roc_curve"
   ]
  },
  {
   "cell_type": "code",
   "execution_count": 21,
   "id": "803be4a2-066d-4434-9eff-bdfc8e390ea3",
   "metadata": {},
   "outputs": [],
   "source": [
    "# split the dataset 70 by 30\n",
    "X_train, X_test, y_train, y_test = train_test_split(X, y, test_size = 0.3, random_state = 42)"
   ]
  },
  {
   "cell_type": "code",
   "execution_count": 22,
   "id": "9d5ff319-f158-4fe6-8efd-e466457482a8",
   "metadata": {},
   "outputs": [
    {
     "data": {
      "text/plain": [
       "0    27662\n",
       "1     3523\n",
       "Name: y, dtype: int64"
      ]
     },
     "execution_count": 22,
     "metadata": {},
     "output_type": "execute_result"
    }
   ],
   "source": [
    "# check the distribution of our target value\n",
    "y_train.value_counts()"
   ]
  },
  {
   "cell_type": "code",
   "execution_count": 23,
   "id": "083429c3-e984-4cbb-b425-4b515f7f35bb",
   "metadata": {},
   "outputs": [],
   "source": [
    "# Setup the pipeline steps: steps\n",
    "steps = [('scaler', StandardScaler()), ('lr', LogisticRegression())] # ('scaler', StandardScaler()),\n",
    "# Create the pipeline: pipeline\n",
    "pipeline_lr = Pipeline(steps)\n",
    "# Fit the pipeline to the train set\n",
    "pipeline_lr.fit(X_train, y_train)\n",
    "# Predict the labels of the test set\n",
    "y_pred_lr = pipeline_lr.predict(X_test)"
   ]
  },
  {
   "cell_type": "code",
   "execution_count": 24,
   "id": "0c67ce31-10d4-4307-8a5c-1166ca53bd00",
   "metadata": {},
   "outputs": [
    {
     "name": "stdout",
     "output_type": "stream",
     "text": [
      "{'memory': None, 'steps': [('scaler', StandardScaler()), ('lr', LogisticRegression())], 'verbose': False, 'scaler': StandardScaler(), 'lr': LogisticRegression(), 'scaler__copy': True, 'scaler__with_mean': True, 'scaler__with_std': True, 'lr__C': 1.0, 'lr__class_weight': None, 'lr__dual': False, 'lr__fit_intercept': True, 'lr__intercept_scaling': 1, 'lr__l1_ratio': None, 'lr__max_iter': 100, 'lr__multi_class': 'auto', 'lr__n_jobs': None, 'lr__penalty': 'l2', 'lr__random_state': None, 'lr__solver': 'lbfgs', 'lr__tol': 0.0001, 'lr__verbose': 0, 'lr__warm_start': False}\n"
     ]
    }
   ],
   "source": [
    "# Print the parameters of the model\n",
    "print(pipeline_lr.get_params())"
   ]
  },
  {
   "cell_type": "code",
   "execution_count": 25,
   "id": "593d0fbe-2126-4684-8cea-aa37274a8317",
   "metadata": {},
   "outputs": [
    {
     "name": "stdout",
     "output_type": "stream",
     "text": [
      "              precision    recall  f1-score   support\n",
      "\n",
      "           0       0.92      0.98      0.95     11871\n",
      "           1       0.63      0.32      0.43      1494\n",
      "\n",
      "    accuracy                           0.90     13365\n",
      "   macro avg       0.78      0.65      0.69     13365\n",
      "weighted avg       0.89      0.90      0.89     13365\n",
      "\n"
     ]
    }
   ],
   "source": [
    "# Compute metrics\n",
    "print(classification_report(y_test, y_pred_lr))"
   ]
  },
  {
   "cell_type": "code",
   "execution_count": 26,
   "id": "90c5dfc0-e5d1-4bac-bf41-dd7357cf46f2",
   "metadata": {},
   "outputs": [
    {
     "data": {
      "image/png": "[encoded data removed]",
      "text/plain": [
       "<Figure size 432x288 with 2 Axes>"
      ]
     },
     "metadata": {
      "needs_background": "light"
     },
     "output_type": "display_data"
    }
   ],
   "source": [
    "# plot the confusion matrix\n",
    "cm = confusion_matrix(y_test, y_pred_lr)\n",
    "sns.heatmap(cm, annot = True, fmt = \"d\")\n",
    "plt.title('Confusion matrix for logistic regression')\n",
    "plt.show()"
   ]
  },
  {
   "cell_type": "markdown",
   "id": "6af45aba-54d9-459e-8564-865598083860",
   "metadata": {},
   "source": [
    "### Excercises"
   ]
  },
  {
   "cell_type": "code",
   "execution_count": 27,
   "id": "b6817a23-840d-499d-ad93-bed658756feb",
   "metadata": {},
   "outputs": [],
   "source": [
    "# Excercise 1: train the random forest classifer. DO NOT FORGET TO IMPORT RANDOM FOREST CLASSIFIER\n",
    "from sklearn.ensemble import RandomForestClassifier\n",
    "# Setup the pipeline steps: steps\n",
    "steps = [('scaler', StandardScaler()), ('rfr', RandomForestClassifier())] #\n",
    "# Create the pipeline: pipeline\n",
    "pipeline_rfr = Pipeline(steps)\n",
    "# Fit the pipeline to the train set\n",
    "pipeline_rfr.fit(X_train, y_train)\n",
    "# Predict the labels of the test set\n",
    "y_pred_rfr = pipeline_rfr.predict(X_test)"
   ]
  },
  {
   "cell_type": "code",
   "execution_count": 28,
   "id": "e24431ec-6d39-4599-ab19-e44c1fde2c27",
   "metadata": {},
   "outputs": [
    {
     "name": "stdout",
     "output_type": "stream",
     "text": [
      "              precision    recall  f1-score   support\n",
      "\n",
      "           0       0.92      0.97      0.95     11871\n",
      "           1       0.64      0.37      0.47      1494\n",
      "\n",
      "    accuracy                           0.91     13365\n",
      "   macro avg       0.78      0.67      0.71     13365\n",
      "weighted avg       0.89      0.91      0.89     13365\n",
      "\n"
     ]
    }
   ],
   "source": [
    "# Excercise 2: diplay the classification report\n",
    "\n",
    "# Compute metrics\n",
    "print(classification_report(y_test, y_pred_rfr))"
   ]
  },
  {
   "cell_type": "code",
   "execution_count": 29,
   "id": "b9333ceb-506f-43ea-a4b3-2ea5e72416ae",
   "metadata": {},
   "outputs": [
    {
     "data": {
      "text/plain": [
       "Text(0.5, 1.0, 'Confusion matrix for random forest classifier')"
      ]
     },
     "execution_count": 29,
     "metadata": {},
     "output_type": "execute_result"
    },
    {
     "data": {
      "image/png": "[encoded data removed]",
      "text/plain": [
       "<Figure size 432x288 with 2 Axes>"
      ]
     },
     "metadata": {
      "needs_background": "light"
     },
     "output_type": "display_data"
    }
   ],
   "source": [
    "# Excercise 3: plot the confusion matrix\n",
    "\n",
    "cm = confusion_matrix(y_test, y_pred_rfr)\n",
    "sns.heatmap(cm, annot = True, fmt = \"d\")\n",
    "plt.title('Confusion matrix for random forest classifier')"
   ]
  },
  {
   "cell_type": "markdown",
   "id": "ba1c77e5-c819-427d-bb54-24abe05960dd",
   "metadata": {},
   "source": [
    "### Tracking Experiment with Neptune"
   ]
  },
  {
   "cell_type": "code",
   "execution_count": 33,
   "id": "9eac4fc2-0019-459c-9f22-587f8a5fa2d2",
   "metadata": {
    "scrolled": true
   },
   "outputs": [],
   "source": [
    "# import libraries\n",
    "import neptune.new as neptune\n",
    "from sklearn.pipeline import Pipeline\n",
    "from sklearn.preprocessing import StandardScaler\n",
    "from sklearn.linear_model import LogisticRegression\n",
    "from sklearn.model_selection import train_test_split\n",
    "import neptune.new.integrations.sklearn as npt_utils\n",
    "\n",
    "# Setup the pipeline steps: steps\n",
    "steps = [('scaler', StandardScaler()), ('lr', LogisticRegression())] #\n",
    "# Create the pipeline: pipeline\n",
    "pipeline_lr = Pipeline(steps)"
   ]
  },
  {
   "cell_type": "code",
   "execution_count": 43,
   "id": "7e4037af-34bf-4a34-873e-a32f76a349bf",
   "metadata": {},
   "outputs": [
    {
     "name": "stdout",
     "output_type": "stream",
     "text": [
      "https://app.neptune.ai/teetee/Eaglesense/e/EAG-3\n",
      "Remember to stop your run once you’ve finished logging your metadata (https://docs.neptune.ai/api-reference/run#.stop). It will be stopped automatically only when the notebook kernel/interactive console is terminated.\n"
     ]
    }
   ],
   "source": [
    "# input neptune credentials\n",
    "\n",
    "run = neptune.init(\n",
    "    project = \"teetee/Eaglesense\",\n",
    "    api_token = \"eyJhcGlfYWRkcmVzcyI6Imh0dHBzOi8vYXBwLm5lcHR1bmUuYWkiLCJhcGlfdXJsIjoiaHR0cHM6Ly9hcHAubmVwdHVuZS5haSIsImFwaV9rZXkiOiJlYzQ2YTNiYi0xZTk0LTRjNGItYWQxNC1kMzllZTI3MDExNzYifQ==\")  # your credentials"
   ]
  },
  {
   "cell_type": "code",
   "execution_count": 44,
   "id": "18186b20-2995-495b-9476-68020518c061",
   "metadata": {},
   "outputs": [],
   "source": [
    "# split dataset, 70 by 30\n",
    "X_train, X_test, y_train, y_test = train_test_split(X, y, test_size = 0.3, random_state = 42)\n",
    "\n",
    "# save dataset to a local folder named cleaned\n",
    "X_train.to_csv(\"./cleaned/X_train.csv\")\n",
    "y_train.to_csv(\"./cleaned/y_train.csv\")\n",
    "X_test.to_csv(\"./cleaned/X_test.csv\")\n",
    "y_test.to_csv(\"./cleaned/y_test.csv\")\n",
    "\n",
    "# Move the all the content of the clean folder to neptune\n",
    "run[\"clean_dataset\"].track_files(\"./cleaned/\")"
   ]
  },
  {
   "cell_type": "code",
   "execution_count": 45,
   "id": "0fbd492c-37a9-421d-933e-9a45d3192a90",
   "metadata": {},
   "outputs": [],
   "source": [
    "# train algorithm with training data and log experiment on neptune\n",
    "pipeline_lr.fit(X_train, y_train)\n",
    "run[\"classifier\"] = npt_utils.create_classifier_summary(pipeline_lr, X_train, X_test, y_train, y_test)"
   ]
  },
  {
   "cell_type": "code",
   "execution_count": 46,
   "id": "6ec5752a-7c28-4bcd-96f5-a11fabe9d376",
   "metadata": {},
   "outputs": [
    {
     "name": "stdout",
     "output_type": "stream",
     "text": [
      "Shutting down background jobs, please wait a moment...\n",
      "Done!\n"
     ]
    },
    {
     "name": "stderr",
     "output_type": "stream",
     "text": [
      "Waiting for the remaining 4 operations to synchronize with Neptune. Do not kill this process.\n"
     ]
    },
    {
     "name": "stdout",
     "output_type": "stream",
     "text": [
      "All 4 operations synced, thanks for waiting!\n"
     ]
    }
   ],
   "source": [
    "# stop the experiment\n",
    "run.stop()"
   ]
  },
  {
   "cell_type": "markdown",
   "id": "c00dd617-4db0-4b7e-b5da-77848bfb5f0c",
   "metadata": {},
   "source": [
    "### Excercises"
   ]
  },
  {
   "cell_type": "code",
   "execution_count": 47,
   "id": "5eabaf46-d243-443d-b591-9e1911b3e40d",
   "metadata": {},
   "outputs": [],
   "source": [
    "# EXCERCISE 4: import library and parse it in the piipeline \n",
    "import neptune.new as neptune\n",
    "from sklearn.pipeline import Pipeline\n",
    "from sklearn.preprocessing import StandardScaler\n",
    "# ??? import random forest classifier\n",
    "from sklearn.ensemble import RandomForestClassifier\n",
    "from sklearn.model_selection import train_test_split\n",
    "import neptune.new.integrations.sklearn as npt_utils\n",
    "\n",
    "# Setup the pipeline steps: steps\n",
    "steps = [('scaler', StandardScaler()), ('rfr', RandomForestClassifier())] #\n",
    "# Create the pipeline: pipeline\n",
    "pipeline_rfr = Pipeline(steps)"
   ]
  },
  {
   "cell_type": "code",
   "execution_count": 48,
   "id": "402d60ea-34b4-4069-a56b-763363fef327",
   "metadata": {},
   "outputs": [
    {
     "name": "stdout",
     "output_type": "stream",
     "text": [
      "https://app.neptune.ai/teetee/Week-3-Assignment/e/WEEK-1\n",
      "Remember to stop your run once you’ve finished logging your metadata (https://docs.neptune.ai/api-reference/run#.stop). It will be stopped automatically only when the notebook kernel/interactive console is terminated.\n"
     ]
    }
   ],
   "source": [
    "# EXCERCISE 5: Get credential from neptune and enter it here\n",
    "\n",
    "run = neptune.init(\n",
    "    project = \"teetee/Week-3-Assignment\",\n",
    "    api_token = \"eyJhcGlfYWRkcmVzcyI6Imh0dHBzOi8vYXBwLm5lcHR1bmUuYWkiLCJhcGlfdXJsIjoiaHR0cHM6Ly9hcHAubmVwdHVuZS5haSIsImFwaV9rZXkiOiJlYzQ2YTNiYi0xZTk0LTRjNGItYWQxNC1kMzllZTI3MDExNzYifQ==\"  # your credentials\n",
    ")"
   ]
  },
  {
   "cell_type": "code",
   "execution_count": 51,
   "id": "d095431e-e992-490d-ae99-856edeef8ff8",
   "metadata": {},
   "outputs": [],
   "source": [
    "# Excercise 6: split the dataset with a different test_size = 0.25\n",
    "X_train, X_test, y_train, y_test = train_test_split(X, y, test_size = 0.3, random_state = 42)\n",
    "\n",
    "# save dataset to a local folder named cleaned2\n",
    "X_train.to_csv(\"./cleaned2/X_train.csv\")\n",
    "y_train.to_csv(\"./cleaned2/y_train.csv\")\n",
    "X_test.to_csv(\"./cleaned2/X_test.csv\")\n",
    "y_test.to_csv(\"./cleaned2/y_test.csv\")\n",
    "\n",
    "# Store the files on neptune\n",
    "run[\"clean_dataset_2\"].track_files(\"./cleaned2/\")"
   ]
  },
  {
   "cell_type": "code",
   "execution_count": 53,
   "id": "def1cf48-b70c-45e8-8c08-df8103bc37ea",
   "metadata": {},
   "outputs": [
    {
     "name": "stderr",
     "output_type": "stream",
     "text": [
      "You are attempting to create an in-memory file that is 42.4MB large. Neptune supports logging in-memory file objects smaller than 32MB. Resize or increase compression of this object\n"
     ]
    }
   ],
   "source": [
    "# EXCERCISE 7: Use the classifier pipeline you create above\n",
    "pipeline_rfr.fit(X_train, y_train)\n",
    "run[\"classifier\"] = npt_utils.create_classifier_summary(pipeline_rfr, X_train, X_test, y_train, y_test)"
   ]
  },
  {
   "cell_type": "code",
   "execution_count": 54,
   "id": "cac97b0d-5c3a-416a-9476-11b4071e9c42",
   "metadata": {},
   "outputs": [
    {
     "name": "stdout",
     "output_type": "stream",
     "text": [
      "Shutting down background jobs, please wait a moment...\n",
      "Done!\n"
     ]
    },
    {
     "name": "stderr",
     "output_type": "stream",
     "text": [
      "Waiting for the remaining 1 operations to synchronize with Neptune. Do not kill this process.\n"
     ]
    },
    {
     "name": "stdout",
     "output_type": "stream",
     "text": [
      "All 1 operations synced, thanks for waiting!\n"
     ]
    }
   ],
   "source": [
    "# stop the experiment\n",
    "run.stop()"
   ]
  }
 ],
 "metadata": {
  "kernelspec": {
   "display_name": "Python 3 (ipykernel)",
   "language": "python",
   "name": "python3"
  },
  "language_info": {
   "codemirror_mode": {
    "name": "ipython",
    "version": 3
   },
   "file_extension": ".py",
   "mimetype": "text/x-python",
   "name": "python",
   "nbconvert_exporter": "python",
   "pygments_lexer": "ipython3",
   "version": "3.9.7"
  }
 },
 "nbformat": 4,
 "nbformat_minor": 5
}
